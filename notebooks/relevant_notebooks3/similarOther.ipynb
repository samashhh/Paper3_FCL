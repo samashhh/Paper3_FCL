{
 "cells": [
  {
   "cell_type": "code",
   "execution_count": 2,
   "metadata": {},
   "outputs": [
    {
     "name": "stdout",
     "output_type": "stream",
     "text": [
      "Similarity: 0.73\n",
      "Other Image: /raid/home/somayeh.shami/project/somayeh_workspace/DWRL7/data/BigBag4_7_Other/images_cutout/4994_3_99.jpg\n",
      "PET Image: /raid/home/somayeh.shami/project/somayeh_workspace/DWRL7/data/BigBag4_1_PET/images_cutout/6127_1_98.jpg\n",
      "Similarity: 0.70\n",
      "Other Image: /raid/home/somayeh.shami/project/somayeh_workspace/DWRL7/data/BigBag4_7_Other/images_cutout/4994_3_99.jpg\n",
      "PET Image: /raid/home/somayeh.shami/project/somayeh_workspace/DWRL7/data/BigBag4_1_PET/images_cutout/6622_1_99.jpg\n"
     ]
    }
   ],
   "source": [
    "import torch\n",
    "from torchvision import models, transforms\n",
    "from PIL import Image\n",
    "from sklearn.metrics.pairwise import cosine_similarity\n",
    "import numpy as np\n",
    "import glob\n",
    "\n",
    "# Load pre-trained ResNet18 model for feature extraction\n",
    "model = models.resnet18(pretrained=True)\n",
    "model = torch.nn.Sequential(*(list(model.children())[:-1]))  # Remove final classification layer\n",
    "model.eval()\n",
    "\n",
    "# Transformation for the images\n",
    "transform = transforms.Compose([\n",
    "    transforms.Resize((224, 224)),\n",
    "    transforms.ToTensor(),\n",
    "    transforms.Normalize(mean=[0.485, 0.456, 0.406], std=[0.229, 0.224, 0.225]),\n",
    "])\n",
    "\n",
    "# Feature extraction function\n",
    "def extract_features(image_path):\n",
    "    image = Image.open(image_path).convert(\"RGB\")\n",
    "    image = transform(image).unsqueeze(0)  # Add batch dimension\n",
    "    with torch.no_grad():\n",
    "        features = model(image).flatten().numpy()\n",
    "    return features\n",
    "\n",
    "# Paths to images (example paths, update with actual paths to your images)\n",
    "other_images = glob.glob(\"/raid/home/somayeh.shami/project/somayeh_workspace/DWRL7/data/BigBag4_7_Other/images_cutout/*.jpg\")  # Replace with your \"Other\" images directory\n",
    "pet_images = glob.glob(\"/raid/home/somayeh.shami/project/somayeh_workspace/DWRL7/data/BigBag4_1_PET/images_cutout/*.jpg\")  # Replace with your PET images directory\n",
    "\n",
    "# Extract features\n",
    "other_features = [(img_path, extract_features(img_path)) for img_path in other_images[:5]]  # Limit to 5 for simplicity\n",
    "pet_features = [(img_path, extract_features(img_path)) for img_path in pet_images[:5]]  # Limit to 5 for simplicity\n",
    "\n",
    "# Calculate similarities and find closest pairs\n",
    "similar_pairs = []\n",
    "for other_img_path, other_feat in other_features:\n",
    "    for pet_img_path, pet_feat in pet_features:\n",
    "        similarity = cosine_similarity([other_feat], [pet_feat])[0][0]\n",
    "        similar_pairs.append((similarity, other_img_path, pet_img_path))\n",
    "\n",
    "# Sort pairs by similarity (highest first) and select top 1 or 2 pairs\n",
    "similar_pairs = sorted(similar_pairs, reverse=True)[:2]\n",
    "\n",
    "# Display results\n",
    "for similarity, other_img_path, pet_img_path in similar_pairs:\n",
    "    print(f\"Similarity: {similarity:.2f}\")\n",
    "    print(f\"Other Image: {other_img_path}\")\n",
    "    print(f\"PET Image: {pet_img_path}\")\n"
   ]
  },
  {
   "cell_type": "code",
   "execution_count": null,
   "metadata": {},
   "outputs": [],
   "source": []
  }
 ],
 "metadata": {
  "kernelspec": {
   "display_name": "Python 3",
   "language": "python",
   "name": "python3"
  },
  "language_info": {
   "codemirror_mode": {
    "name": "ipython",
    "version": 3
   },
   "file_extension": ".py",
   "mimetype": "text/x-python",
   "name": "python",
   "nbconvert_exporter": "python",
   "pygments_lexer": "ipython3",
   "version": "3.10.12"
  }
 },
 "nbformat": 4,
 "nbformat_minor": 2
}
